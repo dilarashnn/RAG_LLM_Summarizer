{
  "nbformat": 4,
  "nbformat_minor": 0,
  "metadata": {
    "colab": {
      "provenance": []
    },
    "kernelspec": {
      "name": "python3",
      "display_name": "Python 3"
    },
    "language_info": {
      "name": "python"
    }
  },
  "cells": [
    {
      "cell_type": "code",
      "source": [
        "import fitz  # PyMuPDF\n",
        "import os\n",
        "\n",
        "def extract_text_from_pdfs(folder_path):\n",
        "    all_texts = {}\n",
        "    for file in os.listdir(folder_path):\n",
        "        if file.endswith(\".pdf\"):\n",
        "            pdf_path = os.path.join(folder_path, file)\n",
        "            doc = fitz.open(pdf_path)\n",
        "            text = \"\"\n",
        "            for page in doc:\n",
        "                text += page.get_text()\n",
        "            all_texts[file] = text\n",
        "    return all_texts\n",
        "\n",
        "pdf_folder = \"/content/pdfs\"  # PDF'leri buraya koy\n",
        "pdf_texts = extract_text_from_pdfs(pdf_folder)\n",
        "\n",
        "for name, text in pdf_texts.items():\n",
        "    print(f\"--- {name} ---\")\n",
        "    print(text[:500])  # ilk 500 karakter\n",
        "    print(\"\\n\")\n"
      ],
      "metadata": {
        "colab": {
          "base_uri": "https://localhost:8080/"
        },
        "id": "c-f7TGjkmhOs",
        "outputId": "3c78cecc-bf7f-4b36-9699-db6eb44fdf14"
      },
      "execution_count": 1,
      "outputs": [
        {
          "output_type": "stream",
          "name": "stdout",
          "text": [
            "--- financial_report.pdf ---\n",
            "Financial Report 2025 \n",
            "  \n",
            "1. Annual Revenue and Expenses \n",
            "The company achieved a total revenue of $12 million, reflecting a 15% growth \n",
            "compared to the previous year. Total operating expenses amounted to $8 million, \n",
            "including salaries, marketing, and administrative costs. \n",
            "  \n",
            "2. Investment and Growth Strategy \n",
            "Investments were made in R&D and market expansion. A new product line contributed \n",
            "20% of the annual revenue. Future plans include entering new international markets \n",
            "and enhancing digita\n",
            "\n",
            "\n",
            "--- company_policies.pdf ---\n",
            "Company Policies \n",
            "  \n",
            "1. Work Hours and Leave \n",
            "Employees are expected to work 9:00 AM to 6:00 PM, Monday through Friday. All leave \n",
            "requests must be submitted at least two weeks in advance and approved by the direct \n",
            "supervisor. Emergency leave will be handled on a case-by-case basis. Overtime work \n",
            "must be pre-approved and compensated according to the labor regulations. \n",
            "  \n",
            "2. Data Security and Privacy \n",
            "All employees must adhere to company data security policies, including secure \n",
            "handling of co\n",
            "\n",
            "\n",
            "--- legal_contracts.pdf ---\n",
            "Legal Contracts \n",
            "  \n",
            "1. Termination and Cancellation \n",
            "Either party may terminate this contract with a thirty-day written notice. Termination \n",
            "due to breach of terms requires immediate action and possible legal recourse. \n",
            "  \n",
            "2. Responsibilities and Obligations \n",
            "The contractor is responsible for delivering all services outlined in the scope of work. \n",
            "The company will provide necessary resources and timely payments as agreed. \n",
            "  \n",
            "3. Liability and Indemnification \n",
            "Both parties agree to indemnify and \n",
            "\n",
            "\n"
          ]
        }
      ]
    },
    {
      "cell_type": "code",
      "source": [
        "from langchain.embeddings.openai import OpenAIEmbeddings\n",
        "from langchain.text_splitter import RecursiveCharacterTextSplitter\n",
        "from langchain.vectorstores import Chroma\n",
        "\n",
        "import os\n",
        "\n",
        "os.environ[\"OPENAI_API_KEY\"] = ''"
      ],
      "metadata": {
        "id": "W8h5nyDVmmS8"
      },
      "execution_count": 2,
      "outputs": []
    },
    {
      "cell_type": "code",
      "source": [
        "# Embedding oluşturucu\n",
        "embeddings = OpenAIEmbeddings()\n",
        "\n",
        "# Metinleri parçalara böl\n",
        "splitter = RecursiveCharacterTextSplitter(chunk_size=1000, chunk_overlap=150)\n",
        "\n",
        "docs = []\n",
        "for name, text in pdf_texts.items():\n",
        "    chunks = splitter.split_text(text)\n",
        "    for i, chunk in enumerate(chunks):\n",
        "        docs.append({\"content\": chunk, \"source\": name})\n",
        "\n",
        "# Vektör veritabanı oluştur\n",
        "texts = [d[\"content\"] for d in docs]\n",
        "metadatas = [{\"source\": d[\"source\"]} for d in docs]\n",
        "\n",
        "db = Chroma.from_texts(texts, embeddings, metadatas=metadatas)\n",
        "retriever = db.as_retriever()"
      ],
      "metadata": {
        "colab": {
          "base_uri": "https://localhost:8080/"
        },
        "id": "U9KMQ_krnaP9",
        "outputId": "bb23f230-2b5e-45de-d936-b93ea282cc39"
      },
      "execution_count": 3,
      "outputs": [
        {
          "output_type": "stream",
          "name": "stderr",
          "text": [
            "/tmp/ipython-input-2702217358.py:2: LangChainDeprecationWarning: The class `OpenAIEmbeddings` was deprecated in LangChain 0.0.9 and will be removed in 1.0. An updated version of the class exists in the :class:`~langchain-openai package and should be used instead. To use it run `pip install -U :class:`~langchain-openai` and import as `from :class:`~langchain_openai import OpenAIEmbeddings``.\n",
            "  embeddings = OpenAIEmbeddings()\n"
          ]
        }
      ]
    },
    {
      "cell_type": "code",
      "source": [
        "from langchain_openai import ChatOpenAI\n",
        "from langchain.chains import RetrievalQA\n",
        "\n",
        "llm = ChatOpenAI(model=\"gpt-3.5-turbo\", temperature=0.2)\n",
        "\n",
        "qa_chain = RetrievalQA.from_chain_type(\n",
        "    llm=llm,\n",
        "    chain_type=\"stuff\",\n",
        "    retriever=retriever\n",
        ")"
      ],
      "metadata": {
        "id": "cU2L0vXQnzoy"
      },
      "execution_count": 6,
      "outputs": []
    },
    {
      "cell_type": "code",
      "source": [
        "queries = [\n",
        "    \"Şirket politikalarındaki veri gizliliği kurallarını özetle.\",\n",
        "    \"Sözleşmede fesih koşulları nelerdir?\",\n",
        "    \"Finansal raporda önerilen yatırım stratejilerini madde madde yaz.\",\n",
        "    \"Tüm dokümanlardan genel bir özet çıkar.\"\n",
        "]\n",
        "\n",
        "for q in queries:\n",
        "    print(f\"❓Soru: {q}\\n\")\n",
        "    print(\"💡Cevap:\\n\", qa_chain.run(q))\n",
        "    print(\"\\n\" + \"-\"*80 + \"\\n\")\n"
      ],
      "metadata": {
        "colab": {
          "base_uri": "https://localhost:8080/"
        },
        "id": "FT7XE4y6n4fK",
        "outputId": "b2690d09-90d3-4089-d478-2e230b66ef7b"
      },
      "execution_count": 7,
      "outputs": [
        {
          "output_type": "stream",
          "name": "stdout",
          "text": [
            "❓Soru: Şirket politikalarındaki veri gizliliği kurallarını özetle.\n",
            "\n"
          ]
        },
        {
          "output_type": "stream",
          "name": "stderr",
          "text": [
            "/tmp/ipython-input-4209919534.py:10: LangChainDeprecationWarning: The method `Chain.run` was deprecated in langchain 0.1.0 and will be removed in 1.0. Use :meth:`~invoke` instead.\n",
            "  print(\"💡Cevap:\\n\", qa_chain.run(q))\n"
          ]
        },
        {
          "output_type": "stream",
          "name": "stdout",
          "text": [
            "💡Cevap:\n",
            " Şirket veri gizliliği politikaları, çalışanların gizli belgeleri güvenli bir şekilde işlemesini, şirket onaylı cihazların kullanılmasını ve şifre korumasını içerir. Hassas bilgilerin izinsiz paylaşımı kesinlikle yasaktır ve disiplin cezasına neden olabilir.\n",
            "\n",
            "--------------------------------------------------------------------------------\n",
            "\n",
            "❓Soru: Sözleşmede fesih koşulları nelerdir?\n",
            "\n",
            "💡Cevap:\n",
            " Sözleşme, her iki tarafın da otuz günlük yazılı bir bildirimle feshedebileceği bir hüküm içermektedir. Ancak, şart ihlali durumunda fesih derhal gerçekleşebilir ve muhtemelen yasal yollara başvurulabilir.\n",
            "\n",
            "--------------------------------------------------------------------------------\n",
            "\n",
            "❓Soru: Finansal raporda önerilen yatırım stratejilerini madde madde yaz.\n",
            "\n",
            "💡Cevap:\n",
            " Finansal raporda önerilen yatırım stratejileri şunlardır:\n",
            "\n",
            "1. Teknolojiye yapılan yatırımların artırılması\n",
            "2. Çalışanlar için eğitim programlarına yatırım yapılması\n",
            "3. Yeni uluslararası pazarlara giriş yapılması\n",
            "4. Dijital varlığın güçlendirilmesi\n",
            "\n",
            "Bu stratejilerin uygulanması, şirketin rekabet avantajını sürdürmesine ve sürdürülebilir büyümeyi sağlamasına yardımcı olacaktır.\n",
            "\n",
            "--------------------------------------------------------------------------------\n",
            "\n",
            "❓Soru: Tüm dokümanlardan genel bir özet çıkar.\n",
            "\n",
            "💡Cevap:\n",
            " Şirket politikaları, yasal sözleşmeler ve mali raporlar şu konuları kapsamaktadır:\n",
            "\n",
            "- Şirket politikaları çalışma saatleri, izinler, veri güvenliği ve gizliliği, çalışan davranışı ve acil durum prosedürlerini içerir.\n",
            "- Yasal sözleşmelerde ise sözleşme feshi, sorumluluklar, tazminat, anlaşmazlık çözümü ve gizlilik konuları ele alınmaktadır.\n",
            "- 2025 Mali Raporunda şirketin gelir ve giderleri, yatırımlar, büyüme stratejisi, risk değerlendirmesi ve fırsatlar hakkında bilgiler yer almaktadır.\n",
            "\n",
            "Genel olarak, şirket çalışanlarından profesyonel davranış beklenmekte, veri güvenliği ön planda tutulmakta, yasal sözleşmelerde tarafların hak ve sorumlulukları belirlenmekte ve mali raporlarda şirketin finansal durumu ve gelecek planları hakkında bilgiler sunulmaktadır.\n",
            "\n",
            "--------------------------------------------------------------------------------\n",
            "\n"
          ]
        }
      ]
    },
    {
      "cell_type": "code",
      "source": [
        "# 📝 7️⃣ Her PDF dosyasını tek tek özetle\n",
        "summaries = {}\n",
        "for name, text in pdf_texts.items():\n",
        "    print(f\"📄 {name} özetleniyor...\")\n",
        "    query = f\"{name} adlı dokümanın en önemli kısımlarını kısa ve anlamlı şekilde özetle.\"\n",
        "    summary = qa_chain.run(query)\n",
        "    summaries[name] = summary\n",
        "    print(\"✅ Özet tamamlandı!\\n\")\n",
        "\n",
        "# 💾 8️⃣ Özetleri tek bir dosyada kaydet\n",
        "summary_text = \"\"\n",
        "for name, summ in summaries.items():\n",
        "    summary_text += f\"--- {name} ---\\n{summ}\\n\\n\"\n",
        "\n",
        "output_path = \"/content/summaries.txt\"\n",
        "with open(output_path, \"w\", encoding=\"utf-8\") as f:\n",
        "    f.write(summary_text)\n",
        "\n",
        "print(f\"✅ Tüm özetler '{output_path}' dosyasına kaydedildi.\")"
      ],
      "metadata": {
        "colab": {
          "base_uri": "https://localhost:8080/"
        },
        "id": "Irfbgal-oLqb",
        "outputId": "23dc4c49-b6e8-46fc-b9a4-652ebf578f2c"
      },
      "execution_count": 8,
      "outputs": [
        {
          "output_type": "stream",
          "name": "stdout",
          "text": [
            "📄 financial_report.pdf özetleniyor...\n",
            "✅ Özet tamamlandı!\n",
            "\n",
            "📄 company_policies.pdf özetleniyor...\n",
            "✅ Özet tamamlandı!\n",
            "\n",
            "📄 legal_contracts.pdf özetleniyor...\n",
            "✅ Özet tamamlandı!\n",
            "\n",
            "✅ Tüm özetler '/content/summaries.txt' dosyasına kaydedildi.\n"
          ]
        }
      ]
    }
  ]
}